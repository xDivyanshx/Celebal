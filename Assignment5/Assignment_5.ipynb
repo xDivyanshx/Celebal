{
  "nbformat": 4,
  "nbformat_minor": 0,
  "metadata": {
    "colab": {
      "provenance": []
    },
    "kernelspec": {
      "name": "python3",
      "display_name": "Python 3"
    },
    "language_info": {
      "name": "python"
    }
  },
  "cells": [
    {
      "cell_type": "code",
      "source": [
        "import pandas as pd"
      ],
      "metadata": {
        "id": "Hgmt5RNX6oqI"
      },
      "execution_count": 89,
      "outputs": []
    },
    {
      "cell_type": "markdown",
      "source": [
        "#Titanic.csv"
      ],
      "metadata": {
        "id": "UDJbqs2t6tsp"
      }
    },
    {
      "cell_type": "code",
      "source": [
        "df = pd.read_csv('train.csv')\n",
        "print(df.head())"
      ],
      "metadata": {
        "colab": {
          "base_uri": "https://localhost:8080/"
        },
        "id": "YhKaAYKTAfr8",
        "outputId": "bddb89bf-1be8-4654-df81-9feb28aadae1"
      },
      "execution_count": 90,
      "outputs": [
        {
          "output_type": "stream",
          "name": "stdout",
          "text": [
            "   PassengerId  Survived  Pclass  \\\n",
            "0            1         0       3   \n",
            "1            2         1       1   \n",
            "2            3         1       3   \n",
            "3            4         1       1   \n",
            "4            5         0       3   \n",
            "\n",
            "                                                Name     Sex   Age  SibSp  \\\n",
            "0                            Braund, Mr. Owen Harris    male  22.0      1   \n",
            "1  Cumings, Mrs. John Bradley (Florence Briggs Th...  female  38.0      1   \n",
            "2                             Heikkinen, Miss. Laina  female  26.0      0   \n",
            "3       Futrelle, Mrs. Jacques Heath (Lily May Peel)  female  35.0      1   \n",
            "4                           Allen, Mr. William Henry    male  35.0      0   \n",
            "\n",
            "   Parch            Ticket     Fare Cabin Embarked  \n",
            "0      0         A/5 21171   7.2500   NaN        S  \n",
            "1      0          PC 17599  71.2833   C85        C  \n",
            "2      0  STON/O2. 3101282   7.9250   NaN        S  \n",
            "3      0            113803  53.1000  C123        S  \n",
            "4      0            373450   8.0500   NaN        S  \n"
          ]
        }
      ]
    },
    {
      "cell_type": "markdown",
      "source": [
        "##Data Cleaning"
      ],
      "metadata": {
        "id": "ReNQibrw6xlM"
      }
    },
    {
      "cell_type": "code",
      "source": [
        "#Removing the unwanted columns\n",
        "cols = ['Name', 'Ticket', 'Cabin']\n",
        "df = df.drop(cols, axis=1)\n",
        "print(df.head())"
      ],
      "metadata": {
        "colab": {
          "base_uri": "https://localhost:8080/"
        },
        "id": "-r9418HzAfue",
        "outputId": "cfd9b2fc-367e-4109-b398-402c38aecc01"
      },
      "execution_count": 91,
      "outputs": [
        {
          "output_type": "stream",
          "name": "stdout",
          "text": [
            "   PassengerId  Survived  Pclass     Sex   Age  SibSp  Parch     Fare Embarked\n",
            "0            1         0       3    male  22.0      1      0   7.2500        S\n",
            "1            2         1       1  female  38.0      1      0  71.2833        C\n",
            "2            3         1       3  female  26.0      0      0   7.9250        S\n",
            "3            4         1       1  female  35.0      1      0  53.1000        S\n",
            "4            5         0       3    male  35.0      0      0   8.0500        S\n"
          ]
        }
      ]
    },
    {
      "cell_type": "markdown",
      "source": [
        "##Handling Missing Values"
      ],
      "metadata": {
        "id": "X0H7Y7S37AXI"
      }
    },
    {
      "cell_type": "code",
      "source": [
        "df.info()"
      ],
      "metadata": {
        "colab": {
          "base_uri": "https://localhost:8080/"
        },
        "id": "2JgSBKM-AfxE",
        "outputId": "b22e66a9-8ea5-4fa3-876a-91a077fe1075"
      },
      "execution_count": 92,
      "outputs": [
        {
          "output_type": "stream",
          "name": "stdout",
          "text": [
            "<class 'pandas.core.frame.DataFrame'>\n",
            "RangeIndex: 891 entries, 0 to 890\n",
            "Data columns (total 9 columns):\n",
            " #   Column       Non-Null Count  Dtype  \n",
            "---  ------       --------------  -----  \n",
            " 0   PassengerId  891 non-null    int64  \n",
            " 1   Survived     891 non-null    int64  \n",
            " 2   Pclass       891 non-null    int64  \n",
            " 3   Sex          891 non-null    object \n",
            " 4   Age          714 non-null    float64\n",
            " 5   SibSp        891 non-null    int64  \n",
            " 6   Parch        891 non-null    int64  \n",
            " 7   Fare         891 non-null    float64\n",
            " 8   Embarked     889 non-null    object \n",
            "dtypes: float64(2), int64(5), object(2)\n",
            "memory usage: 62.8+ KB\n"
          ]
        }
      ]
    },
    {
      "cell_type": "markdown",
      "source": [
        "###Removing Null Values"
      ],
      "metadata": {
        "id": "gsiQxIUQ7LSz"
      }
    },
    {
      "cell_type": "code",
      "source": [
        "#Removinf the rows with null values.\n",
        "df2 = df.dropna()\n",
        "df2.info()"
      ],
      "metadata": {
        "colab": {
          "base_uri": "https://localhost:8080/"
        },
        "id": "90zO2FmHBRiT",
        "outputId": "8e7cf9df-1694-429a-cce3-84d52698650b"
      },
      "execution_count": 93,
      "outputs": [
        {
          "output_type": "stream",
          "name": "stdout",
          "text": [
            "<class 'pandas.core.frame.DataFrame'>\n",
            "Index: 712 entries, 0 to 890\n",
            "Data columns (total 9 columns):\n",
            " #   Column       Non-Null Count  Dtype  \n",
            "---  ------       --------------  -----  \n",
            " 0   PassengerId  712 non-null    int64  \n",
            " 1   Survived     712 non-null    int64  \n",
            " 2   Pclass       712 non-null    int64  \n",
            " 3   Sex          712 non-null    object \n",
            " 4   Age          712 non-null    float64\n",
            " 5   SibSp        712 non-null    int64  \n",
            " 6   Parch        712 non-null    int64  \n",
            " 7   Fare         712 non-null    float64\n",
            " 8   Embarked     712 non-null    object \n",
            "dtypes: float64(2), int64(5), object(2)\n",
            "memory usage: 55.6+ KB\n"
          ]
        }
      ]
    },
    {
      "cell_type": "markdown",
      "source": [
        "###Replacing Null values"
      ],
      "metadata": {
        "id": "hQfUSN6l7x8U"
      }
    },
    {
      "cell_type": "code",
      "source": [
        "#Replacing null values of Age column with the mean of the column\n",
        "from sklearn.impute import SimpleImputer\n",
        "imputer = SimpleImputer(strategy='mean')\n",
        "df['Age'] = imputer.fit_transform(df[['Age']])\n",
        "print(df.info())"
      ],
      "metadata": {
        "colab": {
          "base_uri": "https://localhost:8080/"
        },
        "id": "n2ZvdCupBRko",
        "outputId": "49012d98-9f77-4222-e527-f1ed9700c176"
      },
      "execution_count": 94,
      "outputs": [
        {
          "output_type": "stream",
          "name": "stdout",
          "text": [
            "<class 'pandas.core.frame.DataFrame'>\n",
            "RangeIndex: 891 entries, 0 to 890\n",
            "Data columns (total 9 columns):\n",
            " #   Column       Non-Null Count  Dtype  \n",
            "---  ------       --------------  -----  \n",
            " 0   PassengerId  891 non-null    int64  \n",
            " 1   Survived     891 non-null    int64  \n",
            " 2   Pclass       891 non-null    int64  \n",
            " 3   Sex          891 non-null    object \n",
            " 4   Age          891 non-null    float64\n",
            " 5   SibSp        891 non-null    int64  \n",
            " 6   Parch        891 non-null    int64  \n",
            " 7   Fare         891 non-null    float64\n",
            " 8   Embarked     889 non-null    object \n",
            "dtypes: float64(2), int64(5), object(2)\n",
            "memory usage: 62.8+ KB\n",
            "None\n"
          ]
        }
      ]
    },
    {
      "cell_type": "markdown",
      "source": [
        "##Data Transformation"
      ],
      "metadata": {
        "id": "D-PJGIgQ8Owf"
      }
    },
    {
      "cell_type": "markdown",
      "source": [
        "###Normalization"
      ],
      "metadata": {
        "id": "Gq5BWGAU8SMX"
      }
    },
    {
      "cell_type": "code",
      "source": [
        "#Normalizing the fare column using Min-Max Scaler\n",
        "from sklearn.preprocessing import MinMaxScaler\n",
        "scaler = MinMaxScaler()\n",
        "df2=df.copy()\n",
        "df2['Fare'] = scaler.fit_transform(df2[['Fare']])\n",
        "print(df2.head())"
      ],
      "metadata": {
        "colab": {
          "base_uri": "https://localhost:8080/"
        },
        "id": "w4byOPp8BRnZ",
        "outputId": "f0854b06-84c2-499c-ce03-a7ace56ecb1a"
      },
      "execution_count": 95,
      "outputs": [
        {
          "output_type": "stream",
          "name": "stdout",
          "text": [
            "   PassengerId  Survived  Pclass     Sex   Age  SibSp  Parch      Fare  \\\n",
            "0            1         0       3    male  22.0      1      0  0.014151   \n",
            "1            2         1       1  female  38.0      1      0  0.139136   \n",
            "2            3         1       3  female  26.0      0      0  0.015469   \n",
            "3            4         1       1  female  35.0      1      0  0.103644   \n",
            "4            5         0       3    male  35.0      0      0  0.015713   \n",
            "\n",
            "  Embarked  \n",
            "0        S  \n",
            "1        C  \n",
            "2        S  \n",
            "3        S  \n",
            "4        S  \n"
          ]
        }
      ]
    },
    {
      "cell_type": "markdown",
      "source": [
        "###Label Encoder"
      ],
      "metadata": {
        "id": "jqEsLu2o8juj"
      }
    },
    {
      "cell_type": "code",
      "source": [
        "#Encoding the Sex column using Label Encoder\n",
        "from sklearn.preprocessing import LabelEncoder\n",
        "label_encoder = LabelEncoder()\n",
        "df['Sex'] = label_encoder.fit_transform(df['Sex'])\n",
        "print(df.head())"
      ],
      "metadata": {
        "colab": {
          "base_uri": "https://localhost:8080/"
        },
        "id": "vlIBRx5M5toB",
        "outputId": "db0ff1b8-0ab3-48e2-ddd3-bd393c71bd70"
      },
      "execution_count": 96,
      "outputs": [
        {
          "output_type": "stream",
          "name": "stdout",
          "text": [
            "   PassengerId  Survived  Pclass  Sex   Age  SibSp  Parch     Fare Embarked\n",
            "0            1         0       3    1  22.0      1      0   7.2500        S\n",
            "1            2         1       1    0  38.0      1      0  71.2833        C\n",
            "2            3         1       3    0  26.0      0      0   7.9250        S\n",
            "3            4         1       1    0  35.0      1      0  53.1000        S\n",
            "4            5         0       3    1  35.0      0      0   8.0500        S\n"
          ]
        }
      ]
    },
    {
      "cell_type": "markdown",
      "source": [
        "###One Hot Encoder"
      ],
      "metadata": {
        "id": "WgJ_Vv4b85AV"
      }
    },
    {
      "cell_type": "code",
      "source": [
        "#Encoding the Embarked column using One Hot Encoder\n",
        "from sklearn.preprocessing import OneHotEncoder\n",
        "one_hot_encoder = OneHotEncoder(sparse=False, drop='first')\n",
        "encoded_embarked = one_hot_encoder.fit_transform(df[['Embarked']])\n",
        "encoded_embarked_df = pd.DataFrame(encoded_embarked, columns=one_hot_encoder.get_feature_names_out(['Embarked']))\n",
        "df = pd.concat([df.drop(columns=['Embarked']), encoded_embarked_df], axis=1)\n",
        "print(df.head())"
      ],
      "metadata": {
        "colab": {
          "base_uri": "https://localhost:8080/"
        },
        "id": "ga5gMJE56Joq",
        "outputId": "1cb20ecf-fd45-45ae-bd94-2b07cd301ee2"
      },
      "execution_count": 97,
      "outputs": [
        {
          "output_type": "stream",
          "name": "stdout",
          "text": [
            "   PassengerId  Survived  Pclass  Sex   Age  SibSp  Parch     Fare  \\\n",
            "0            1         0       3    1  22.0      1      0   7.2500   \n",
            "1            2         1       1    0  38.0      1      0  71.2833   \n",
            "2            3         1       3    0  26.0      0      0   7.9250   \n",
            "3            4         1       1    0  35.0      1      0  53.1000   \n",
            "4            5         0       3    1  35.0      0      0   8.0500   \n",
            "\n",
            "   Embarked_Q  Embarked_S  Embarked_nan  \n",
            "0         0.0         1.0           0.0  \n",
            "1         0.0         0.0           0.0  \n",
            "2         0.0         1.0           0.0  \n",
            "3         0.0         1.0           0.0  \n",
            "4         0.0         1.0           0.0  \n"
          ]
        },
        {
          "output_type": "stream",
          "name": "stderr",
          "text": [
            "/usr/local/lib/python3.10/dist-packages/sklearn/preprocessing/_encoders.py:868: FutureWarning: `sparse` was renamed to `sparse_output` in version 1.2 and will be removed in 1.4. `sparse_output` is ignored unless you leave `sparse` to its default value.\n",
            "  warnings.warn(\n"
          ]
        }
      ]
    },
    {
      "cell_type": "markdown",
      "source": [
        "##Feature Scaling"
      ],
      "metadata": {
        "id": "pBitO_vQ9o_u"
      }
    },
    {
      "cell_type": "code",
      "source": [
        "from sklearn.preprocessing import StandardScaler\n",
        "df2=df.copy()\n",
        "columns_to_scale = ['Age', 'Fare']\n",
        "scaler = StandardScaler()\n",
        "df2[columns_to_scale] = scaler.fit_transform(df2[columns_to_scale])\n",
        "print(df2[columns_to_scale].head())"
      ],
      "metadata": {
        "colab": {
          "base_uri": "https://localhost:8080/"
        },
        "id": "HILt0N1q9skp",
        "outputId": "7b5410db-3910-4648-bb5f-8b50bccf087f"
      },
      "execution_count": 100,
      "outputs": [
        {
          "output_type": "stream",
          "name": "stdout",
          "text": [
            "        Age      Fare\n",
            "0 -0.592481 -0.502445\n",
            "1  0.638789  0.786845\n",
            "2 -0.284663 -0.488854\n",
            "3  0.407926  0.420730\n",
            "4  0.407926 -0.486337\n"
          ]
        }
      ]
    }
  ]
}
